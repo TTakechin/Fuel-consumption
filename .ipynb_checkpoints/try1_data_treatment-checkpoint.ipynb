{
 "cells": [
  {
   "cell_type": "code",
   "execution_count": 13,
   "id": "48d207ba-0852-4242-8035-2008d1dc57e5",
   "metadata": {},
   "outputs": [],
   "source": [
    "import numpy as np\n",
    "import pandas as pd\n",
    "import matplotlib.pyplot as plt\n",
    "import seaborn as sns\n",
    "\n",
    "%matplotlib inline"
   ]
  },
  {
   "cell_type": "code",
   "execution_count": 45,
   "id": "9d7a43b5-99b1-45c9-bf99-1a756ae47a34",
   "metadata": {},
   "outputs": [
    {
     "name": "stdout",
     "output_type": "stream",
     "text": [
      "mpg             float64\n",
      "cylinders         int64\n",
      "displacement    float64\n",
      "horsepower       object\n",
      "weight          float64\n",
      "acceleration    float64\n",
      "model year        int64\n",
      "origin            int64\n",
      "car name         object\n",
      "dtype: object\n"
     ]
    },
    {
     "data": {
      "text/html": [
       "<div>\n",
       "<style scoped>\n",
       "    .dataframe tbody tr th:only-of-type {\n",
       "        vertical-align: middle;\n",
       "    }\n",
       "\n",
       "    .dataframe tbody tr th {\n",
       "        vertical-align: top;\n",
       "    }\n",
       "\n",
       "    .dataframe thead th {\n",
       "        text-align: right;\n",
       "    }\n",
       "</style>\n",
       "<table border=\"1\" class=\"dataframe\">\n",
       "  <thead>\n",
       "    <tr style=\"text-align: right;\">\n",
       "      <th></th>\n",
       "      <th>mpg</th>\n",
       "      <th>cylinders</th>\n",
       "      <th>displacement</th>\n",
       "      <th>horsepower</th>\n",
       "      <th>weight</th>\n",
       "      <th>acceleration</th>\n",
       "      <th>model year</th>\n",
       "      <th>origin</th>\n",
       "      <th>car name</th>\n",
       "    </tr>\n",
       "  </thead>\n",
       "  <tbody>\n",
       "    <tr>\n",
       "      <th>0</th>\n",
       "      <td>29.0</td>\n",
       "      <td>4</td>\n",
       "      <td>135.0</td>\n",
       "      <td>84.00</td>\n",
       "      <td>2525.0</td>\n",
       "      <td>16.0</td>\n",
       "      <td>82</td>\n",
       "      <td>1</td>\n",
       "      <td>dodge aries se</td>\n",
       "    </tr>\n",
       "    <tr>\n",
       "      <th>1</th>\n",
       "      <td>31.9</td>\n",
       "      <td>4</td>\n",
       "      <td>89.0</td>\n",
       "      <td>71.00</td>\n",
       "      <td>1925.0</td>\n",
       "      <td>14.0</td>\n",
       "      <td>79</td>\n",
       "      <td>2</td>\n",
       "      <td>vw rabbit custom</td>\n",
       "    </tr>\n",
       "    <tr>\n",
       "      <th>2</th>\n",
       "      <td>19.0</td>\n",
       "      <td>6</td>\n",
       "      <td>156.0</td>\n",
       "      <td>108.0</td>\n",
       "      <td>2930.0</td>\n",
       "      <td>15.5</td>\n",
       "      <td>76</td>\n",
       "      <td>3</td>\n",
       "      <td>toyota mark ii</td>\n",
       "    </tr>\n",
       "    <tr>\n",
       "      <th>3</th>\n",
       "      <td>28.0</td>\n",
       "      <td>4</td>\n",
       "      <td>90.0</td>\n",
       "      <td>75.00</td>\n",
       "      <td>2125.0</td>\n",
       "      <td>14.5</td>\n",
       "      <td>74</td>\n",
       "      <td>1</td>\n",
       "      <td>dodge colt</td>\n",
       "    </tr>\n",
       "    <tr>\n",
       "      <th>4</th>\n",
       "      <td>37.7</td>\n",
       "      <td>4</td>\n",
       "      <td>89.0</td>\n",
       "      <td>62.00</td>\n",
       "      <td>2050.0</td>\n",
       "      <td>17.3</td>\n",
       "      <td>81</td>\n",
       "      <td>3</td>\n",
       "      <td>toyota tercel</td>\n",
       "    </tr>\n",
       "  </tbody>\n",
       "</table>\n",
       "</div>"
      ],
      "text/plain": [
       "    mpg  cylinders  displacement horsepower  weight  acceleration  model year  \\\n",
       "0  29.0          4         135.0      84.00  2525.0          16.0          82   \n",
       "1  31.9          4          89.0      71.00  1925.0          14.0          79   \n",
       "2  19.0          6         156.0      108.0  2930.0          15.5          76   \n",
       "3  28.0          4          90.0      75.00  2125.0          14.5          74   \n",
       "4  37.7          4          89.0      62.00  2050.0          17.3          81   \n",
       "\n",
       "   origin          car name  \n",
       "0       1    dodge aries se  \n",
       "1       2  vw rabbit custom  \n",
       "2       3    toyota mark ii  \n",
       "3       1        dodge colt  \n",
       "4       3     toyota tercel  "
      ]
     },
     "execution_count": 45,
     "metadata": {},
     "output_type": "execute_result"
    }
   ],
   "source": [
    "# car nameを除いてデータを読み込む\n",
    "\n",
    "path_train = \"train.tsv\"\n",
    "path_test = \"test.tsv\"\n",
    "\n",
    "def load_data(path):\n",
    "    df = pd.read_csv(path, delimiter=\"\\t\")\n",
    "    df = df.drop([\"id\"], axis=1)\n",
    "    return df\n",
    "\n",
    "df_train_original = load_data(path_train)\n",
    "df_test_original = load_data(path_test)\n",
    "\n",
    "print(df_train_original.dtypes)\n",
    "df_train_original.head()"
   ]
  },
  {
   "cell_type": "code",
   "execution_count": 46,
   "id": "e95719bf-87be-451e-a166-2fb70fcbf6e2",
   "metadata": {},
   "outputs": [
    {
     "data": {
      "text/html": [
       "<div>\n",
       "<style scoped>\n",
       "    .dataframe tbody tr th:only-of-type {\n",
       "        vertical-align: middle;\n",
       "    }\n",
       "\n",
       "    .dataframe tbody tr th {\n",
       "        vertical-align: top;\n",
       "    }\n",
       "\n",
       "    .dataframe thead th {\n",
       "        text-align: right;\n",
       "    }\n",
       "</style>\n",
       "<table border=\"1\" class=\"dataframe\">\n",
       "  <thead>\n",
       "    <tr style=\"text-align: right;\">\n",
       "      <th></th>\n",
       "      <th>mpg</th>\n",
       "      <th>cylinders</th>\n",
       "      <th>displacement</th>\n",
       "      <th>horsepower</th>\n",
       "      <th>weight</th>\n",
       "      <th>acceleration</th>\n",
       "      <th>model year</th>\n",
       "      <th>origin</th>\n",
       "      <th>car name</th>\n",
       "    </tr>\n",
       "  </thead>\n",
       "  <tbody>\n",
       "    <tr>\n",
       "      <th>0</th>\n",
       "      <td>29.0</td>\n",
       "      <td>4</td>\n",
       "      <td>135.0</td>\n",
       "      <td>84.0</td>\n",
       "      <td>2525.0</td>\n",
       "      <td>16.0</td>\n",
       "      <td>82</td>\n",
       "      <td>1</td>\n",
       "      <td>dodge aries se</td>\n",
       "    </tr>\n",
       "    <tr>\n",
       "      <th>1</th>\n",
       "      <td>31.9</td>\n",
       "      <td>4</td>\n",
       "      <td>89.0</td>\n",
       "      <td>71.0</td>\n",
       "      <td>1925.0</td>\n",
       "      <td>14.0</td>\n",
       "      <td>79</td>\n",
       "      <td>2</td>\n",
       "      <td>vw rabbit custom</td>\n",
       "    </tr>\n",
       "    <tr>\n",
       "      <th>2</th>\n",
       "      <td>19.0</td>\n",
       "      <td>6</td>\n",
       "      <td>156.0</td>\n",
       "      <td>108.0</td>\n",
       "      <td>2930.0</td>\n",
       "      <td>15.5</td>\n",
       "      <td>76</td>\n",
       "      <td>3</td>\n",
       "      <td>toyota mark ii</td>\n",
       "    </tr>\n",
       "    <tr>\n",
       "      <th>3</th>\n",
       "      <td>28.0</td>\n",
       "      <td>4</td>\n",
       "      <td>90.0</td>\n",
       "      <td>75.0</td>\n",
       "      <td>2125.0</td>\n",
       "      <td>14.5</td>\n",
       "      <td>74</td>\n",
       "      <td>1</td>\n",
       "      <td>dodge colt</td>\n",
       "    </tr>\n",
       "    <tr>\n",
       "      <th>4</th>\n",
       "      <td>37.7</td>\n",
       "      <td>4</td>\n",
       "      <td>89.0</td>\n",
       "      <td>62.0</td>\n",
       "      <td>2050.0</td>\n",
       "      <td>17.3</td>\n",
       "      <td>81</td>\n",
       "      <td>3</td>\n",
       "      <td>toyota tercel</td>\n",
       "    </tr>\n",
       "  </tbody>\n",
       "</table>\n",
       "</div>"
      ],
      "text/plain": [
       "    mpg  cylinders  displacement  horsepower  weight  acceleration  \\\n",
       "0  29.0          4         135.0        84.0  2525.0          16.0   \n",
       "1  31.9          4          89.0        71.0  1925.0          14.0   \n",
       "2  19.0          6         156.0       108.0  2930.0          15.5   \n",
       "3  28.0          4          90.0        75.0  2125.0          14.5   \n",
       "4  37.7          4          89.0        62.0  2050.0          17.3   \n",
       "\n",
       "   model year  origin          car name  \n",
       "0          82       1    dodge aries se  \n",
       "1          79       2  vw rabbit custom  \n",
       "2          76       3    toyota mark ii  \n",
       "3          74       1        dodge colt  \n",
       "4          81       3     toyota tercel  "
      ]
     },
     "execution_count": 46,
     "metadata": {},
     "output_type": "execute_result"
    }
   ],
   "source": [
    "# \"?\"をnp.nanに変更する\n",
    "\n",
    "def replace_to_nan(df):\n",
    "    df[\"horsepower\"] = df[\"horsepower\"].replace(\"?\", np.nan).astype(float)\n",
    "    df\n",
    "    return df\n",
    "\n",
    "df_train_replaced = replace_to_nan(df_train_original)\n",
    "df_test_replaced = replace_to_nan(df_test_original)\n",
    "\n",
    "df_train_replaced.head()"
   ]
  },
  {
   "cell_type": "code",
   "execution_count": 47,
   "id": "4bc9e348-1cb4-4ac7-ba4d-a8fea1c19803",
   "metadata": {},
   "outputs": [
    {
     "data": {
      "text/html": [
       "<div>\n",
       "<style scoped>\n",
       "    .dataframe tbody tr th:only-of-type {\n",
       "        vertical-align: middle;\n",
       "    }\n",
       "\n",
       "    .dataframe tbody tr th {\n",
       "        vertical-align: top;\n",
       "    }\n",
       "\n",
       "    .dataframe thead th {\n",
       "        text-align: right;\n",
       "    }\n",
       "</style>\n",
       "<table border=\"1\" class=\"dataframe\">\n",
       "  <thead>\n",
       "    <tr style=\"text-align: right;\">\n",
       "      <th></th>\n",
       "      <th>mpg</th>\n",
       "      <th>cylinders</th>\n",
       "      <th>displacement</th>\n",
       "      <th>horsepower</th>\n",
       "      <th>weight</th>\n",
       "      <th>acceleration</th>\n",
       "      <th>model year</th>\n",
       "      <th>origin</th>\n",
       "      <th>car name</th>\n",
       "    </tr>\n",
       "  </thead>\n",
       "  <tbody>\n",
       "    <tr>\n",
       "      <th>0</th>\n",
       "      <td>29.0</td>\n",
       "      <td>4</td>\n",
       "      <td>135.0</td>\n",
       "      <td>84.0</td>\n",
       "      <td>2525.0</td>\n",
       "      <td>16.0</td>\n",
       "      <td>82</td>\n",
       "      <td>1</td>\n",
       "      <td>dodge aries se</td>\n",
       "    </tr>\n",
       "    <tr>\n",
       "      <th>1</th>\n",
       "      <td>31.9</td>\n",
       "      <td>4</td>\n",
       "      <td>89.0</td>\n",
       "      <td>71.0</td>\n",
       "      <td>1925.0</td>\n",
       "      <td>14.0</td>\n",
       "      <td>79</td>\n",
       "      <td>2</td>\n",
       "      <td>vw rabbit custom</td>\n",
       "    </tr>\n",
       "    <tr>\n",
       "      <th>2</th>\n",
       "      <td>19.0</td>\n",
       "      <td>6</td>\n",
       "      <td>156.0</td>\n",
       "      <td>108.0</td>\n",
       "      <td>2930.0</td>\n",
       "      <td>15.5</td>\n",
       "      <td>76</td>\n",
       "      <td>3</td>\n",
       "      <td>toyota mark ii</td>\n",
       "    </tr>\n",
       "    <tr>\n",
       "      <th>3</th>\n",
       "      <td>28.0</td>\n",
       "      <td>4</td>\n",
       "      <td>90.0</td>\n",
       "      <td>75.0</td>\n",
       "      <td>2125.0</td>\n",
       "      <td>14.5</td>\n",
       "      <td>74</td>\n",
       "      <td>1</td>\n",
       "      <td>dodge colt</td>\n",
       "    </tr>\n",
       "    <tr>\n",
       "      <th>4</th>\n",
       "      <td>37.7</td>\n",
       "      <td>4</td>\n",
       "      <td>89.0</td>\n",
       "      <td>62.0</td>\n",
       "      <td>2050.0</td>\n",
       "      <td>17.3</td>\n",
       "      <td>81</td>\n",
       "      <td>3</td>\n",
       "      <td>toyota tercel</td>\n",
       "    </tr>\n",
       "  </tbody>\n",
       "</table>\n",
       "</div>"
      ],
      "text/plain": [
       "    mpg  cylinders  displacement  horsepower  weight  acceleration  \\\n",
       "0  29.0          4         135.0        84.0  2525.0          16.0   \n",
       "1  31.9          4          89.0        71.0  1925.0          14.0   \n",
       "2  19.0          6         156.0       108.0  2930.0          15.5   \n",
       "3  28.0          4          90.0        75.0  2125.0          14.5   \n",
       "4  37.7          4          89.0        62.0  2050.0          17.3   \n",
       "\n",
       "   model year  origin          car name  \n",
       "0          82       1    dodge aries se  \n",
       "1          79       2  vw rabbit custom  \n",
       "2          76       3    toyota mark ii  \n",
       "3          74       1        dodge colt  \n",
       "4          81       3     toyota tercel  "
      ]
     },
     "execution_count": 47,
     "metadata": {},
     "output_type": "execute_result"
    }
   ],
   "source": [
    "# np.nanを平均値で置換する\n",
    "\n",
    "def replace_nan_to_mean_value(df):\n",
    "    mean = df[\"horsepower\"].mean()\n",
    "    df[\"horsepower\"].fillna(mean, inplace=True)\n",
    "    return df\n",
    "\n",
    "df_train = replace_nan_to_mean_value(df_train_replaced)\n",
    "df_test = replace_nan_to_mean_value(df_test_replaced)\n",
    "\n",
    "df_train.head()"
   ]
  },
  {
   "cell_type": "code",
   "execution_count": 48,
   "id": "fcdc7bc1-4a3e-4e52-bc90-3a2e8a9d4c92",
   "metadata": {},
   "outputs": [
    {
     "name": "stdout",
     "output_type": "stream",
     "text": [
      "199\n"
     ]
    }
   ],
   "source": [
    "len_train = len(df_train[\"car name\"].values.tolist())\n",
    "print(len_train)\n",
    "\n",
    "list_brand_train = []\n",
    "\n",
    "for i in range(len_train):\n",
    "    item = df_train[\"car name\"].values.tolist()[i].split(\" \")[0]\n",
    "    list_brand_train.append(item)"
   ]
  },
  {
   "cell_type": "code",
   "execution_count": 49,
   "id": "c708e747-ca29-4b97-8b1e-36c75b6dd274",
   "metadata": {},
   "outputs": [
    {
     "data": {
      "text/plain": [
       "array(['dodge', 'vw', 'toyota', 'pontiac', 'chevroelt', 'oldsmobile',\n",
       "       'bmw', 'mercedes-benz', 'datsun', 'chevrolet', 'amc', 'renault',\n",
       "       'peugeot', 'ford', 'mercury', 'subaru', 'honda', 'volkswagen',\n",
       "       'saab', 'mazda', 'plymouth', 'opel', 'chevy', 'capri', 'fiat',\n",
       "       'hi', 'toyouta', 'audi', 'buick', 'vokswagen', 'volvo', 'triumph'],\n",
       "      dtype=object)"
      ]
     },
     "execution_count": 49,
     "metadata": {},
     "output_type": "execute_result"
    }
   ],
   "source": [
    "pd.DataFrame(list_brand_train).iloc[:,0].unique()"
   ]
  },
  {
   "cell_type": "code",
   "execution_count": 51,
   "id": "7c9cf223-7291-4027-a439-b4fc6fbd6385",
   "metadata": {},
   "outputs": [],
   "source": [
    "df_train[\"brands\"] = list_brand_train"
   ]
  },
  {
   "cell_type": "code",
   "execution_count": 52,
   "id": "9e8e9228-20af-4ddd-8f93-34a64dd931b6",
   "metadata": {},
   "outputs": [
    {
     "data": {
      "text/html": [
       "<div>\n",
       "<style scoped>\n",
       "    .dataframe tbody tr th:only-of-type {\n",
       "        vertical-align: middle;\n",
       "    }\n",
       "\n",
       "    .dataframe tbody tr th {\n",
       "        vertical-align: top;\n",
       "    }\n",
       "\n",
       "    .dataframe thead th {\n",
       "        text-align: right;\n",
       "    }\n",
       "</style>\n",
       "<table border=\"1\" class=\"dataframe\">\n",
       "  <thead>\n",
       "    <tr style=\"text-align: right;\">\n",
       "      <th></th>\n",
       "      <th>mpg</th>\n",
       "      <th>cylinders</th>\n",
       "      <th>displacement</th>\n",
       "      <th>horsepower</th>\n",
       "      <th>weight</th>\n",
       "      <th>acceleration</th>\n",
       "      <th>model year</th>\n",
       "      <th>origin</th>\n",
       "      <th>car name</th>\n",
       "      <th>brands</th>\n",
       "    </tr>\n",
       "  </thead>\n",
       "  <tbody>\n",
       "    <tr>\n",
       "      <th>0</th>\n",
       "      <td>29.0</td>\n",
       "      <td>4</td>\n",
       "      <td>135.0</td>\n",
       "      <td>84.0</td>\n",
       "      <td>2525.0</td>\n",
       "      <td>16.0</td>\n",
       "      <td>82</td>\n",
       "      <td>1</td>\n",
       "      <td>dodge aries se</td>\n",
       "      <td>dodge</td>\n",
       "    </tr>\n",
       "    <tr>\n",
       "      <th>1</th>\n",
       "      <td>31.9</td>\n",
       "      <td>4</td>\n",
       "      <td>89.0</td>\n",
       "      <td>71.0</td>\n",
       "      <td>1925.0</td>\n",
       "      <td>14.0</td>\n",
       "      <td>79</td>\n",
       "      <td>2</td>\n",
       "      <td>vw rabbit custom</td>\n",
       "      <td>vw</td>\n",
       "    </tr>\n",
       "    <tr>\n",
       "      <th>2</th>\n",
       "      <td>19.0</td>\n",
       "      <td>6</td>\n",
       "      <td>156.0</td>\n",
       "      <td>108.0</td>\n",
       "      <td>2930.0</td>\n",
       "      <td>15.5</td>\n",
       "      <td>76</td>\n",
       "      <td>3</td>\n",
       "      <td>toyota mark ii</td>\n",
       "      <td>toyota</td>\n",
       "    </tr>\n",
       "    <tr>\n",
       "      <th>3</th>\n",
       "      <td>28.0</td>\n",
       "      <td>4</td>\n",
       "      <td>90.0</td>\n",
       "      <td>75.0</td>\n",
       "      <td>2125.0</td>\n",
       "      <td>14.5</td>\n",
       "      <td>74</td>\n",
       "      <td>1</td>\n",
       "      <td>dodge colt</td>\n",
       "      <td>dodge</td>\n",
       "    </tr>\n",
       "    <tr>\n",
       "      <th>4</th>\n",
       "      <td>37.7</td>\n",
       "      <td>4</td>\n",
       "      <td>89.0</td>\n",
       "      <td>62.0</td>\n",
       "      <td>2050.0</td>\n",
       "      <td>17.3</td>\n",
       "      <td>81</td>\n",
       "      <td>3</td>\n",
       "      <td>toyota tercel</td>\n",
       "      <td>toyota</td>\n",
       "    </tr>\n",
       "  </tbody>\n",
       "</table>\n",
       "</div>"
      ],
      "text/plain": [
       "    mpg  cylinders  displacement  horsepower  weight  acceleration  \\\n",
       "0  29.0          4         135.0        84.0  2525.0          16.0   \n",
       "1  31.9          4          89.0        71.0  1925.0          14.0   \n",
       "2  19.0          6         156.0       108.0  2930.0          15.5   \n",
       "3  28.0          4          90.0        75.0  2125.0          14.5   \n",
       "4  37.7          4          89.0        62.0  2050.0          17.3   \n",
       "\n",
       "   model year  origin          car name  brands  \n",
       "0          82       1    dodge aries se   dodge  \n",
       "1          79       2  vw rabbit custom      vw  \n",
       "2          76       3    toyota mark ii  toyota  \n",
       "3          74       1        dodge colt   dodge  \n",
       "4          81       3     toyota tercel  toyota  "
      ]
     },
     "execution_count": 52,
     "metadata": {},
     "output_type": "execute_result"
    }
   ],
   "source": [
    "df_train.head()"
   ]
  },
  {
   "cell_type": "code",
   "execution_count": 57,
   "id": "98396221-be68-45d8-8adc-424f1a401149",
   "metadata": {},
   "outputs": [],
   "source": [
    "# trainとtestをがっちゃんこしてから変えないとだめ　⇒　category_encoderでエラーがでる\n",
    "\n",
    "df_train[\"brands\"].replace(\"chevroelt\", \"chevrolet\", inplace=True)\n",
    "df_train[\"brands\"].replace(\"vw\", \"volkswagen\", inplace=True)\n",
    "df_train[\"brands\"].replace(\"vokswagen\", \"volkswagen\", inplace=True)\n",
    "df_train[\"brands\"].replace(\"toyouta\", \"toyota\", inplace=True)\n",
    "df_train[\"brands\"].replace(\"mercedes-benz\", \"mercedes\", inplace=True)"
   ]
  },
  {
   "cell_type": "code",
   "execution_count": 58,
   "id": "828ba721-66d5-4e07-b6a2-cdb8466b597c",
   "metadata": {},
   "outputs": [
    {
     "data": {
      "text/plain": [
       "array(['dodge', 'volkswagen', 'toyota', 'pontiac', 'chevrolet',\n",
       "       'oldsmobile', 'bmw', 'mercedes', 'datsun', 'amc', 'renault',\n",
       "       'peugeot', 'ford', 'mercury', 'subaru', 'honda', 'saab', 'mazda',\n",
       "       'plymouth', 'opel', 'chevy', 'capri', 'fiat', 'hi', 'audi',\n",
       "       'buick', 'volvo', 'triumph'], dtype=object)"
      ]
     },
     "execution_count": 58,
     "metadata": {},
     "output_type": "execute_result"
    }
   ],
   "source": [
    "df_train[\"brands\"].unique()"
   ]
  },
  {
   "cell_type": "code",
   "execution_count": 53,
   "id": "29984b2c-20af-4015-9186-e0069685924a",
   "metadata": {},
   "outputs": [
    {
     "name": "stdout",
     "output_type": "stream",
     "text": [
      "199\n"
     ]
    }
   ],
   "source": [
    "len_test = len(df_test[\"car name\"].values.tolist())\n",
    "print(len_test)\n",
    "\n",
    "list_brand_test = []\n",
    "\n",
    "for i in range(len_test):\n",
    "    item = df_test[\"car name\"].values.tolist()[i].split(\" \")[0]\n",
    "    list_brand_test.append(item)"
   ]
  },
  {
   "cell_type": "code",
   "execution_count": 54,
   "id": "58d59ca9-71b0-46b2-95ff-c49b93e36d5f",
   "metadata": {},
   "outputs": [
    {
     "data": {
      "text/plain": [
       "array(['volvo', 'ford', 'datsun', 'amc', 'toyota', 'audi', 'dodge',\n",
       "       'buick', 'pontiac', 'chrysler', 'peugeot', 'mercedes', 'opel',\n",
       "       'vw', 'volkswagen', 'honda', 'plymouth', 'chevrolet', 'oldsmobile',\n",
       "       'fiat', 'mazda', 'renault', 'maxda', 'subaru', 'cadillac', 'saab',\n",
       "       'mercury', 'chevy', 'nissan'], dtype=object)"
      ]
     },
     "execution_count": 54,
     "metadata": {},
     "output_type": "execute_result"
    }
   ],
   "source": [
    "pd.DataFrame(list_brand_test).iloc[:,0].unique()"
   ]
  },
  {
   "cell_type": "code",
   "execution_count": null,
   "id": "f0856129-09e2-44d2-a0ef-e2f78d20e497",
   "metadata": {},
   "outputs": [],
   "source": []
  },
  {
   "cell_type": "code",
   "execution_count": null,
   "id": "6328d69f-7e16-455c-bcdc-b6a0f5a8cd3b",
   "metadata": {},
   "outputs": [],
   "source": []
  },
  {
   "cell_type": "raw",
   "id": "4906e7cf-fff6-4368-a59f-8d80716b3cc3",
   "metadata": {},
   "source": [
    "df_train.to_csv(\"./try1/train_processed.csv\")\n",
    "df_test.to_csv(\"./try1/test_processed.csv\")"
   ]
  },
  {
   "cell_type": "code",
   "execution_count": 6,
   "id": "2d479f47-3689-458b-83fc-218d84c22d2d",
   "metadata": {},
   "outputs": [
    {
     "data": {
      "text/plain": [
       "array([4, 6, 8, 5, 3])"
      ]
     },
     "execution_count": 6,
     "metadata": {},
     "output_type": "execute_result"
    }
   ],
   "source": [
    "df_train[\"cylinders\"].unique()"
   ]
  },
  {
   "cell_type": "code",
   "execution_count": 7,
   "id": "eac90ae5-a26a-4352-ba28-9cd5a93eb9c2",
   "metadata": {},
   "outputs": [
    {
     "data": {
      "text/plain": [
       "array([6, 4, 8, 5, 3])"
      ]
     },
     "execution_count": 7,
     "metadata": {},
     "output_type": "execute_result"
    }
   ],
   "source": [
    "df_test[\"cylinders\"].unique()"
   ]
  },
  {
   "cell_type": "code",
   "execution_count": 11,
   "id": "3284e8ec-3b4f-4925-905d-3e3659d8ffac",
   "metadata": {},
   "outputs": [],
   "source": [
    "cols = df_test.columns"
   ]
  },
  {
   "cell_type": "code",
   "execution_count": 12,
   "id": "5b21cca9-1e73-4542-9086-e9fc2b35a5b2",
   "metadata": {},
   "outputs": [
    {
     "data": {
      "image/png": "[encoded data removed]",
      "text/plain": [
       "<Figure size 640x480 with 1 Axes>"
      ]
     },
     "metadata": {},
     "output_type": "display_data"
    },
    {
     "data": {
      "image/png": "[encoded data removed]",
      "text/plain": [
       "<Figure size 640x480 with 1 Axes>"
      ]
     },
     "metadata": {},
     "output_type": "display_data"
    },
    {
     "data": {
      "image/png": "[encoded data removed]",
      "text/plain": [
       "<Figure size 640x480 with 1 Axes>"
      ]
     },
     "metadata": {},
     "output_type": "display_data"
    },
    {
     "data": {
      "image/png": "[encoded data removed]",
      "text/plain": [
       "<Figure size 640x480 with 1 Axes>"
      ]
     },
     "metadata": {},
     "output_type": "display_data"
    },
    {
     "data": {
      "image/png": "[encoded data removed]",
      "text/plain": [
       "<Figure size 640x480 with 1 Axes>"
      ]
     },
     "metadata": {},
     "output_type": "display_data"
    },
    {
     "data": {
      "image/png": "[encoded data removed]",
      "text/plain": [
       "<Figure size 640x480 with 1 Axes>"
      ]
     },
     "metadata": {},
     "output_type": "display_data"
    },
    {
     "data": {
      "image/png": "[encoded data removed]",
      "text/plain": [
       "<Figure size 640x480 with 1 Axes>"
      ]
     },
     "metadata": {},
     "output_type": "display_data"
    }
   ],
   "source": [
    "for col in cols:\n",
    "    plt.figure()\n",
    "    plt.title(col)\n",
    "    plt.hist([df_train[col], df_test[col]], label = [\"train\", \"test\"])\n",
    "    plt.show()"
   ]
  },
  {
   "cell_type": "code",
   "execution_count": null,
   "id": "623aaf1b-f55d-4651-b960-ce8b85e59297",
   "metadata": {},
   "outputs": [],
   "source": []
  }
 ],
 "metadata": {
  "kernelspec": {
   "display_name": "Python 3 (ipykernel)",
   "language": "python",
   "name": "python3"
  },
  "language_info": {
   "codemirror_mode": {
    "name": "ipython",
    "version": 3
   },
   "file_extension": ".py",
   "mimetype": "text/x-python",
   "name": "python",
   "nbconvert_exporter": "python",
   "pygments_lexer": "ipython3",
   "version": "3.8.10"
  }
 },
 "nbformat": 4,
 "nbformat_minor": 5
}
